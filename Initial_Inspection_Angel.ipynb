{
 "cells": [
  {
   "cell_type": "code",
   "execution_count": 1,
   "metadata": {
    "ExecuteTime": {
     "end_time": "2019-07-03T19:17:27.730773Z",
     "start_time": "2019-07-03T19:17:26.792718Z"
    }
   },
   "outputs": [],
   "source": [
    "import warnings\n",
    "# warnings.filterwarnings('ignore')\n",
    "from  Model_test import *\n",
    "from  Load_and_Clean_data import *\n",
    "import numpy as np\n",
    "import pandas as pd\n",
    "import matplotlib.pyplot as plt\n",
    "%matplotlib inline\n",
    "import pandas_profiling\n",
    "from sklearn.decomposition import PCA"
   ]
  },
  {
   "cell_type": "code",
   "execution_count": 2,
   "metadata": {
    "ExecuteTime": {
     "end_time": "2019-07-03T19:17:28.745712Z",
     "start_time": "2019-07-03T19:17:28.742161Z"
    }
   },
   "outputs": [],
   "source": [
    "pd.options.display.max_columns = 90"
   ]
  },
  {
   "cell_type": "code",
   "execution_count": null,
   "metadata": {
    "ExecuteTime": {
     "end_time": "2019-07-03T19:14:08.235249Z",
     "start_time": "2019-07-03T19:14:07.530227Z"
    }
   },
   "outputs": [],
   "source": [
    "from  Load_and_Clean_data import *\n",
    "# Load and clean the data\n",
    "df = load_raw_data()\n",
    "df = clean_data(df)\n",
    "\n",
    "# get features and target\n",
    "X,y = df_featues_target(df)\n",
    "\n",
    "# save to a file\n",
    "save_X_y(X,y)\n",
    "\n",
    "#load from file\n",
    "X,y = load_X_y()"
   ]
  },
  {
   "cell_type": "code",
   "execution_count": null,
   "metadata": {},
   "outputs": [],
   "source": []
  },
  {
   "cell_type": "code",
   "execution_count": null,
   "metadata": {},
   "outputs": [],
   "source": []
  },
  {
   "cell_type": "code",
   "execution_count": null,
   "metadata": {
    "ExecuteTime": {
     "end_time": "2019-07-03T19:14:09.213639Z",
     "start_time": "2019-07-03T19:14:08.980035Z"
    }
   },
   "outputs": [],
   "source": [
    "df = clean_data(df)"
   ]
  },
  {
   "cell_type": "code",
   "execution_count": null,
   "metadata": {
    "ExecuteTime": {
     "end_time": "2019-07-03T19:14:09.930234Z",
     "start_time": "2019-07-03T19:14:09.897035Z"
    }
   },
   "outputs": [],
   "source": [
    "df.head()"
   ]
  },
  {
   "cell_type": "code",
   "execution_count": null,
   "metadata": {
    "ExecuteTime": {
     "end_time": "2019-07-03T19:14:12.725100Z",
     "start_time": "2019-07-03T19:14:12.491575Z"
    }
   },
   "outputs": [],
   "source": [
    "X,y = df_featues_target(df)"
   ]
  },
  {
   "cell_type": "code",
   "execution_count": null,
   "metadata": {
    "ExecuteTime": {
     "end_time": "2019-07-03T19:14:38.329470Z",
     "start_time": "2019-07-03T19:14:31.879189Z"
    }
   },
   "outputs": [],
   "source": [
    "save_X_y(X,y)"
   ]
  },
  {
   "cell_type": "code",
   "execution_count": 3,
   "metadata": {
    "ExecuteTime": {
     "end_time": "2019-07-03T19:17:32.471275Z",
     "start_time": "2019-07-03T19:17:31.960117Z"
    }
   },
   "outputs": [],
   "source": [
    "XX,yy = load_X_y()"
   ]
  },
  {
   "cell_type": "code",
   "execution_count": 5,
   "metadata": {
    "ExecuteTime": {
     "end_time": "2019-07-03T19:17:42.167421Z",
     "start_time": "2019-07-03T19:17:42.161186Z"
    }
   },
   "outputs": [
    {
     "data": {
      "text/plain": [
       "0         0\n",
       "1         2\n",
       "2         0\n",
       "3         0\n",
       "4         0\n",
       "5         2\n",
       "6         0\n",
       "7         2\n",
       "8         0\n",
       "9         0\n",
       "10        2\n",
       "11        1\n",
       "12        1\n",
       "13        0\n",
       "14        2\n",
       "15        0\n",
       "16        1\n",
       "17        0\n",
       "18        2\n",
       "19        0\n",
       "20        0\n",
       "21        0\n",
       "22        0\n",
       "23        2\n",
       "24        0\n",
       "25        0\n",
       "26        0\n",
       "27        2\n",
       "28        2\n",
       "29        2\n",
       "         ..\n",
       "101736    2\n",
       "101737    0\n",
       "101738    0\n",
       "101739    0\n",
       "101740    0\n",
       "101741    0\n",
       "101742    0\n",
       "101743    0\n",
       "101744    0\n",
       "101745    0\n",
       "101746    1\n",
       "101747    2\n",
       "101748    2\n",
       "101749    0\n",
       "101750    1\n",
       "101751    0\n",
       "101752    0\n",
       "101753    0\n",
       "101754    2\n",
       "101755    2\n",
       "101756    2\n",
       "101757    0\n",
       "101758    0\n",
       "101759    0\n",
       "101760    2\n",
       "101761    2\n",
       "101762    0\n",
       "101763    0\n",
       "101764    0\n",
       "101765    0\n",
       "Name: readmitted, Length: 101766, dtype: int64"
      ]
     },
     "execution_count": 5,
     "metadata": {},
     "output_type": "execute_result"
    }
   ],
   "source": [
    "yy"
   ]
  },
  {
   "cell_type": "code",
   "execution_count": null,
   "metadata": {
    "ExecuteTime": {
     "end_time": "2019-07-03T19:06:50.919250Z",
     "start_time": "2019-07-03T19:06:50.911892Z"
    }
   },
   "outputs": [],
   "source": [
    "X.shape,Xnew.shape"
   ]
  },
  {
   "cell_type": "code",
   "execution_count": null,
   "metadata": {
    "ExecuteTime": {
     "end_time": "2019-07-03T19:10:46.946181Z",
     "start_time": "2019-07-03T19:10:46.780128Z"
    }
   },
   "outputs": [],
   "source": [
    "y.to_csv('dataset_diabetes/target.csv',index=False)"
   ]
  },
  {
   "cell_type": "code",
   "execution_count": null,
   "metadata": {
    "ExecuteTime": {
     "end_time": "2019-07-03T19:12:41.799944Z",
     "start_time": "2019-07-03T19:12:41.783702Z"
    }
   },
   "outputs": [],
   "source": [
    "ynew = pd.read_csv('dataset_diabetes/target.csv', header=None)\n"
   ]
  },
  {
   "cell_type": "code",
   "execution_count": null,
   "metadata": {
    "ExecuteTime": {
     "end_time": "2019-07-03T19:12:59.170354Z",
     "start_time": "2019-07-03T19:12:59.165550Z"
    }
   },
   "outputs": [],
   "source": [
    "ynew.columns = ['readmitted']"
   ]
  },
  {
   "cell_type": "code",
   "execution_count": null,
   "metadata": {
    "ExecuteTime": {
     "end_time": "2019-07-03T19:13:19.844422Z",
     "start_time": "2019-07-03T19:13:19.835391Z"
    }
   },
   "outputs": [],
   "source": [
    "ynew['readmitted']"
   ]
  },
  {
   "cell_type": "code",
   "execution_count": null,
   "metadata": {
    "ExecuteTime": {
     "end_time": "2019-07-03T17:38:09.067054Z",
     "start_time": "2019-07-03T17:38:08.364788Z"
    }
   },
   "outputs": [],
   "source": [
    "df = pd.read_csv('dataset_diabetes/diabetic_data.csv')"
   ]
  },
  {
   "cell_type": "code",
   "execution_count": null,
   "metadata": {
    "ExecuteTime": {
     "end_time": "2019-07-03T17:38:09.827427Z",
     "start_time": "2019-07-03T17:38:09.822723Z"
    },
    "scrolled": true
   },
   "outputs": [],
   "source": [
    "# pandas_profiling.ProfileReport(df)"
   ]
  },
  {
   "cell_type": "code",
   "execution_count": null,
   "metadata": {},
   "outputs": [],
   "source": []
  },
  {
   "cell_type": "markdown",
   "metadata": {},
   "source": [
    "## Cleaning some data\n"
   ]
  },
  {
   "cell_type": "code",
   "execution_count": null,
   "metadata": {
    "ExecuteTime": {
     "end_time": "2019-07-03T17:38:10.754345Z",
     "start_time": "2019-07-03T17:38:10.711813Z"
    },
    "code_folding": []
   },
   "outputs": [],
   "source": [
    "# Drop becuase all values are the same\n",
    "df.drop(columns = ['patient_nbr','citoglipton','weight','examide','encounter_id'],inplace=True)\n",
    "\n",
    "# weight, drop coz 97% missing\n",
    "# citoglipton, and examide are constant values\n",
    "# encounter_id is just an id"
   ]
  },
  {
   "cell_type": "code",
   "execution_count": null,
   "metadata": {
    "ExecuteTime": {
     "end_time": "2019-07-03T17:38:11.100283Z",
     "start_time": "2019-07-03T17:38:11.093293Z"
    }
   },
   "outputs": [],
   "source": [
    "# race, missing set to other 2%\n",
    "df.race.replace('?', 'Other',inplace=True)\n"
   ]
  },
  {
   "cell_type": "code",
   "execution_count": null,
   "metadata": {
    "ExecuteTime": {
     "end_time": "2019-07-03T17:38:11.144872Z",
     "start_time": "2019-07-03T17:38:11.119643Z"
    }
   },
   "outputs": [],
   "source": [
    "df.drop(columns = ['diag_1', 'diag_2','diag_3','payer_code'],inplace=True)\n"
   ]
  },
  {
   "cell_type": "code",
   "execution_count": null,
   "metadata": {
    "ExecuteTime": {
     "end_time": "2019-07-03T17:38:11.179756Z",
     "start_time": "2019-07-03T17:38:11.176679Z"
    }
   },
   "outputs": [],
   "source": [
    "# convert diabetes_med from Yes or No to 1 or 0\n",
    "# convert readmission from No, <30, >30 to 0, 1, 2\n"
   ]
  },
  {
   "cell_type": "code",
   "execution_count": null,
   "metadata": {
    "ExecuteTime": {
     "end_time": "2019-07-03T17:38:11.952175Z",
     "start_time": "2019-07-03T17:38:11.878300Z"
    }
   },
   "outputs": [],
   "source": [
    "# convert change from No, Ch to 0, 1\n",
    "df.change = np.where(df.change=='No',0,1)"
   ]
  },
  {
   "cell_type": "code",
   "execution_count": null,
   "metadata": {
    "ExecuteTime": {
     "end_time": "2019-07-03T17:38:12.024260Z",
     "start_time": "2019-07-03T17:38:11.954795Z"
    }
   },
   "outputs": [],
   "source": [
    "# convert diabetes_med from Yes or No to 1 or 0\n",
    "df.diabetesMed = np.where(df.diabetesMed=='Yes',1,0)"
   ]
  },
  {
   "cell_type": "code",
   "execution_count": null,
   "metadata": {
    "ExecuteTime": {
     "end_time": "2019-07-03T17:38:12.067768Z",
     "start_time": "2019-07-03T17:38:12.025811Z"
    }
   },
   "outputs": [],
   "source": [
    "df.drop('medical_specialty', axis=1, inplace=True)\n",
    "# 49,000 are ?"
   ]
  },
  {
   "cell_type": "code",
   "execution_count": null,
   "metadata": {
    "ExecuteTime": {
     "end_time": "2019-07-03T17:38:13.045437Z",
     "start_time": "2019-07-03T17:38:13.032857Z"
    }
   },
   "outputs": [],
   "source": [
    "df.max_glu_serum.unique()"
   ]
  },
  {
   "cell_type": "code",
   "execution_count": null,
   "metadata": {
    "ExecuteTime": {
     "end_time": "2019-07-03T17:38:13.703151Z",
     "start_time": "2019-07-03T17:38:13.662038Z"
    }
   },
   "outputs": [],
   "source": [
    "df.readmitted = np.where(df.readmitted=='NO', 0, df.readmitted )\n",
    "df.readmitted = np.where(df.readmitted=='<30', 1,  df.readmitted )\n",
    "df.readmitted = np.where(df.readmitted=='>30', 2,  df.readmitted )"
   ]
  },
  {
   "cell_type": "code",
   "execution_count": null,
   "metadata": {
    "ExecuteTime": {
     "end_time": "2019-07-03T17:38:14.319002Z",
     "start_time": "2019-07-03T17:38:14.127563Z"
    }
   },
   "outputs": [],
   "source": [
    "dummy_df = pd.get_dummies(df,drop_first=True)"
   ]
  },
  {
   "cell_type": "code",
   "execution_count": null,
   "metadata": {
    "ExecuteTime": {
     "end_time": "2019-07-03T17:38:14.757969Z",
     "start_time": "2019-07-03T17:38:14.731212Z"
    }
   },
   "outputs": [],
   "source": [
    "dummy_df.drop(columns=['readmitted_1', 'readmitted_2','gender_Unknown/Invalid'],\n",
    "              inplace=True)"
   ]
  },
  {
   "cell_type": "code",
   "execution_count": null,
   "metadata": {
    "ExecuteTime": {
     "end_time": "2019-07-03T17:38:15.143034Z",
     "start_time": "2019-07-03T17:38:15.129665Z"
    }
   },
   "outputs": [],
   "source": [
    "X = dummy_df.copy()\n",
    "y = df.readmitted.astype(int)"
   ]
  },
  {
   "cell_type": "code",
   "execution_count": null,
   "metadata": {
    "ExecuteTime": {
     "end_time": "2019-07-03T17:38:15.721104Z",
     "start_time": "2019-07-03T17:38:15.712037Z"
    }
   },
   "outputs": [],
   "source": [
    "col_names = X.columns\n",
    "col_names_list = []\n",
    "for i, col_name in enumerate(col_names):\n",
    "    c1 = col_name.replace('[','')\n",
    "    c1 = c1.replace('>','')\n",
    "    col_names_list.append(c1)\n",
    "X.columns = col_names_list\n",
    "    "
   ]
  },
  {
   "cell_type": "code",
   "execution_count": null,
   "metadata": {
    "ExecuteTime": {
     "end_time": "2019-07-03T17:38:22.662387Z",
     "start_time": "2019-07-03T17:38:16.264102Z"
    }
   },
   "outputs": [],
   "source": [
    "# Save X, y to a file for faster loading\n",
    "X.to_csv('dataset_diabetes/features_cleaned.csv',index=False)\n",
    "y.to_csv('dataset_diabetes/target_cleaned.csv')"
   ]
  },
  {
   "cell_type": "code",
   "execution_count": null,
   "metadata": {
    "ExecuteTime": {
     "end_time": "2019-07-03T17:35:01.614965Z",
     "start_time": "2019-07-03T17:35:01.604519Z"
    }
   },
   "outputs": [],
   "source": [
    "# X = pd.read_csv('dataset_diabetes/features_cleaned.csv',index=False)\n",
    "# y = pd.read_csv('dataset_diabetes/target_cleaned.csv',header=None)"
   ]
  },
  {
   "cell_type": "code",
   "execution_count": null,
   "metadata": {
    "ExecuteTime": {
     "end_time": "2019-07-03T17:34:41.756881Z",
     "start_time": "2019-07-03T17:34:41.746853Z"
    }
   },
   "outputs": [],
   "source": [
    "y.shape()"
   ]
  },
  {
   "cell_type": "code",
   "execution_count": null,
   "metadata": {},
   "outputs": [],
   "source": []
  },
  {
   "cell_type": "code",
   "execution_count": null,
   "metadata": {},
   "outputs": [],
   "source": []
  },
  {
   "cell_type": "markdown",
   "metadata": {},
   "source": [
    "## Train Test Split"
   ]
  },
  {
   "cell_type": "code",
   "execution_count": null,
   "metadata": {
    "ExecuteTime": {
     "end_time": "2019-07-03T17:38:23.897038Z",
     "start_time": "2019-07-03T17:38:23.641014Z"
    }
   },
   "outputs": [],
   "source": [
    "X_train, X_test, y_train, y_test = scale_train_test_split(X,y)"
   ]
  },
  {
   "cell_type": "code",
   "execution_count": null,
   "metadata": {
    "ExecuteTime": {
     "end_time": "2019-07-03T17:38:24.838341Z",
     "start_time": "2019-07-03T17:38:24.832520Z"
    }
   },
   "outputs": [],
   "source": [
    "X.shape,y.shape"
   ]
  },
  {
   "cell_type": "code",
   "execution_count": null,
   "metadata": {
    "ExecuteTime": {
     "end_time": "2019-07-03T17:38:28.652553Z",
     "start_time": "2019-07-03T17:38:25.753349Z"
    }
   },
   "outputs": [],
   "source": [
    "from sklearn.decomposition import PCA\n",
    "import numpy as np\n",
    "\n",
    "pca_1 = PCA(n_components=20)\n",
    "pca_2 = PCA(n_components=40)\n",
    "pca_3 = PCA(n_components=60)\n",
    "\n",
    "principalComponents = pca_1.fit_transform(X)\n",
    "principalComponents = pca_2.fit_transform(X)\n",
    "principalComponents = pca_3.fit_transform(X)\n",
    "\n",
    "print(np.sum(pca_1.explained_variance_ratio_))\n",
    "print(np.sum(pca_2.explained_variance_ratio_))\n",
    "print(np.sum(pca_3.explained_variance_ratio_))\n",
    "\n",
    "\n",
    "\n",
    "# pca = PCA(n_components=27)\n",
    "# principalComponents = pca.fit_transform(feat)\n",
    "# print(np.sum(pca.explained_variance_ratio_))"
   ]
  },
  {
   "cell_type": "code",
   "execution_count": null,
   "metadata": {
    "ExecuteTime": {
     "end_time": "2019-07-03T17:38:29.642336Z",
     "start_time": "2019-07-03T17:38:29.637676Z"
    }
   },
   "outputs": [],
   "source": [
    "print(pca_1.explained_variance_ratio_)\n",
    "# print(np.sum(pca_2.explained_variance_ratio_))\n",
    "# print(np.sum(pca_3.explained_variance_ratio_))"
   ]
  },
  {
   "cell_type": "code",
   "execution_count": null,
   "metadata": {
    "ExecuteTime": {
     "end_time": "2019-07-03T17:38:30.554330Z",
     "start_time": "2019-07-03T17:38:30.517733Z"
    }
   },
   "outputs": [],
   "source": [
    "X.head(2)"
   ]
  },
  {
   "cell_type": "code",
   "execution_count": null,
   "metadata": {
    "ExecuteTime": {
     "end_time": "2019-07-03T17:38:31.456593Z",
     "start_time": "2019-07-03T17:38:31.453377Z"
    }
   },
   "outputs": [],
   "source": [
    "# import xgboost\n",
    "# xgb_clf = xgb.XGBClassifier()\n",
    "# xgb_clf.fit(X_train, y_train)\n"
   ]
  },
  {
   "cell_type": "code",
   "execution_count": null,
   "metadata": {
    "ExecuteTime": {
     "end_time": "2019-07-03T17:39:25.816838Z",
     "start_time": "2019-07-03T17:38:32.291062Z"
    },
    "scrolled": true
   },
   "outputs": [],
   "source": [
    "models, model_names = train_model(X_train, y_train)"
   ]
  },
  {
   "cell_type": "code",
   "execution_count": null,
   "metadata": {
    "ExecuteTime": {
     "end_time": "2019-07-03T14:42:40.306284Z",
     "start_time": "2019-07-03T14:42:39.443543Z"
    }
   },
   "outputs": [],
   "source": [
    "y_train_predicts = predict_all(X_train, y_train, models)"
   ]
  },
  {
   "cell_type": "code",
   "execution_count": null,
   "metadata": {
    "ExecuteTime": {
     "end_time": "2019-07-03T14:42:43.208512Z",
     "start_time": "2019-07-03T14:42:42.920458Z"
    }
   },
   "outputs": [],
   "source": [
    "y_test_predicts = predict_all(X_test, y_test, models)"
   ]
  },
  {
   "cell_type": "code",
   "execution_count": null,
   "metadata": {
    "ExecuteTime": {
     "end_time": "2019-07-03T14:42:49.290510Z",
     "start_time": "2019-07-03T14:42:49.284546Z"
    }
   },
   "outputs": [],
   "source": []
  },
  {
   "cell_type": "code",
   "execution_count": null,
   "metadata": {
    "ExecuteTime": {
     "end_time": "2019-07-03T14:46:57.866446Z",
     "start_time": "2019-07-03T14:46:57.818933Z"
    }
   },
   "outputs": [],
   "source": [
    "\n",
    "print('--- Train data ---')\n",
    "for i,y_train_pred in enumerate(y_train_predicts):\n",
    "    display_acc_and_f1_score(y_train, y_train_pred, model_names[i])\n",
    "print('--- Test data ---')\n",
    "for i,y_test_pred in enumerate(y_test_predicts):\n",
    "    display_acc_and_f1_score(y_test, y_test_pred, model_names[i])"
   ]
  },
  {
   "cell_type": "markdown",
   "metadata": {
    "ExecuteTime": {
     "end_time": "2019-07-03T13:41:22.675383Z",
     "start_time": "2019-07-03T13:41:22.489895Z"
    }
   },
   "source": [
    "## Base Model"
   ]
  },
  {
   "cell_type": "code",
   "execution_count": null,
   "metadata": {},
   "outputs": [],
   "source": []
  },
  {
   "cell_type": "code",
   "execution_count": null,
   "metadata": {},
   "outputs": [],
   "source": []
  },
  {
   "cell_type": "code",
   "execution_count": null,
   "metadata": {},
   "outputs": [],
   "source": []
  },
  {
   "cell_type": "markdown",
   "metadata": {},
   "source": [
    "## Columns to inspect\n",
    "\n",
    "    - Admission_type_id\n",
    "    - discharge_disposition_id\n",
    "    - admission_source_id\n",
    "    - number_of_lab_procedures\n",
    "    "
   ]
  },
  {
   "cell_type": "code",
   "execution_count": null,
   "metadata": {},
   "outputs": [],
   "source": []
  },
  {
   "cell_type": "code",
   "execution_count": null,
   "metadata": {},
   "outputs": [],
   "source": []
  },
  {
   "cell_type": "code",
   "execution_count": null,
   "metadata": {},
   "outputs": [],
   "source": []
  },
  {
   "cell_type": "code",
   "execution_count": null,
   "metadata": {},
   "outputs": [],
   "source": []
  },
  {
   "cell_type": "code",
   "execution_count": null,
   "metadata": {},
   "outputs": [],
   "source": []
  },
  {
   "cell_type": "code",
   "execution_count": null,
   "metadata": {},
   "outputs": [],
   "source": []
  }
 ],
 "metadata": {
  "kernelspec": {
   "display_name": "Python 3",
   "language": "python",
   "name": "python3"
  },
  "language_info": {
   "codemirror_mode": {
    "name": "ipython",
    "version": 3
   },
   "file_extension": ".py",
   "mimetype": "text/x-python",
   "name": "python",
   "nbconvert_exporter": "python",
   "pygments_lexer": "ipython3",
   "version": "3.7.3"
  },
  "latex_envs": {
   "LaTeX_envs_menu_present": true,
   "autoclose": false,
   "autocomplete": true,
   "bibliofile": "biblio.bib",
   "cite_by": "apalike",
   "current_citInitial": 1,
   "eqLabelWithNumbers": true,
   "eqNumInitial": 1,
   "hotkeys": {
    "equation": "Ctrl-E",
    "itemize": "Ctrl-I"
   },
   "labels_anchors": false,
   "latex_user_defs": false,
   "report_style_numbering": false,
   "user_envs_cfg": false
  },
  "toc": {
   "base_numbering": 1,
   "nav_menu": {},
   "number_sections": true,
   "sideBar": true,
   "skip_h1_title": false,
   "title_cell": "Table of Contents",
   "title_sidebar": "Contents",
   "toc_cell": false,
   "toc_position": {},
   "toc_section_display": true,
   "toc_window_display": false
  },
  "varInspector": {
   "cols": {
    "lenName": 16,
    "lenType": 16,
    "lenVar": 40
   },
   "kernels_config": {
    "python": {
     "delete_cmd_postfix": "",
     "delete_cmd_prefix": "del ",
     "library": "var_list.py",
     "varRefreshCmd": "print(var_dic_list())"
    },
    "r": {
     "delete_cmd_postfix": ") ",
     "delete_cmd_prefix": "rm(",
     "library": "var_list.r",
     "varRefreshCmd": "cat(var_dic_list()) "
    }
   },
   "types_to_exclude": [
    "module",
    "function",
    "builtin_function_or_method",
    "instance",
    "_Feature"
   ],
   "window_display": false
  }
 },
 "nbformat": 4,
 "nbformat_minor": 2
}
